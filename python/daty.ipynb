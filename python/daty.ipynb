{
 "cells": [
  {
   "metadata": {},
   "cell_type": "markdown",
   "source": "# 1. Przygotowanie data frame",
   "id": "bf322608b95eb503"
  },
  {
   "metadata": {
    "collapsed": true,
    "ExecuteTime": {
     "end_time": "2025-03-17T22:11:07.275837Z",
     "start_time": "2025-03-17T22:11:06.942760Z"
    }
   },
   "cell_type": "code",
   "source": [
    "from pyspark.shell import spark\n",
    "from pyspark.sql import functions as F\n",
    "\n",
    "cols = [\"timestamp\", \"unix\", \"Date\"]\n",
    "data = [(\"2015-03-22T14:13:34\", 1646641525847, \"May, 2021\"),\n",
    "        (\"2015-03-22T15:03:18\", 1646641557555, \"Mar, 2021\"),\n",
    "        (\"2015-03-22T14:38:39\", 1646641578622, \"Jan, 2021\")]\n",
    "\n",
    "dataFrame = spark.createDataFrame(data, cols) \\\n",
    "    .withColumn(\"current_date\", F.current_date()) \\\n",
    "    .withColumn(\"current_timestamp\", F.current_timestamp())\n",
    "\n",
    "dataFrame.show()"
   ],
   "id": "initial_id",
   "outputs": [
    {
     "name": "stdout",
     "output_type": "stream",
     "text": [
      "+-------------------+-------------+---------+------------+--------------------+\n",
      "|          timestamp|         unix|     Date|current_date|   current_timestamp|\n",
      "+-------------------+-------------+---------+------------+--------------------+\n",
      "|2015-03-22T14:13:34|1646641525847|May, 2021|  2025-03-17|2025-03-17 23:11:...|\n",
      "|2015-03-22T15:03:18|1646641557555|Mar, 2021|  2025-03-17|2025-03-17 23:11:...|\n",
      "|2015-03-22T14:38:39|1646641578622|Jan, 2021|  2025-03-17|2025-03-17 23:11:...|\n",
      "+-------------------+-------------+---------+------------+--------------------+\n",
      "\n"
     ]
    }
   ],
   "execution_count": 38
  },
  {
   "metadata": {},
   "cell_type": "markdown",
   "source": "# 2. Konwersja",
   "id": "47c9f9f1448b4bb4"
  },
  {
   "metadata": {
    "ExecuteTime": {
     "end_time": "2025-03-17T22:09:18.306150Z",
     "start_time": "2025-03-17T22:09:17.911526Z"
    }
   },
   "cell_type": "code",
   "source": "dataFrame.select(F.unix_timestamp(\"timestamp\", \"yyyy-MM-dd'T'HH:mm:ss\").alias(\"unix_converted\"), \"unix\").show()",
   "id": "79a09b0858e21d2b",
   "outputs": [
    {
     "name": "stdout",
     "output_type": "stream",
     "text": [
      "+--------------+-------------+\n",
      "|unix_converted|         unix|\n",
      "+--------------+-------------+\n",
      "|    1427030014|1646641525847|\n",
      "|    1427032998|1646641557555|\n",
      "|    1427031519|1646641578622|\n",
      "+--------------+-------------+\n",
      "\n"
     ]
    }
   ],
   "execution_count": 34
  },
  {
   "metadata": {
    "ExecuteTime": {
     "end_time": "2025-03-17T22:10:24.986653Z",
     "start_time": "2025-03-17T22:10:24.970454Z"
    }
   },
   "cell_type": "code",
   "source": [
    "updatedSchema = (dataFrame.withColumn(\"timestamp\", F.date_format(\"timestamp\", \"yyyy-MM-dd HH:mm:ss\"))\n",
    "                 .withColumn(\"current_timestamp\", F.date_format(\"current_timestamp\", \"yyyy-MM-dd HH:mm:ss\")))\n",
    "\n",
    "updatedSchema.printSchema()"
   ],
   "id": "246abdab69c83c20",
   "outputs": [
    {
     "name": "stdout",
     "output_type": "stream",
     "text": [
      "root\n",
      " |-- timestamp: string (nullable = true)\n",
      " |-- unix: long (nullable = true)\n",
      " |-- Date: string (nullable = true)\n",
      " |-- current_date: date (nullable = false)\n",
      " |-- current_timestamp: string (nullable = false)\n",
      "\n"
     ]
    }
   ],
   "execution_count": 36
  },
  {
   "metadata": {
    "ExecuteTime": {
     "end_time": "2025-03-17T22:10:58.523696Z",
     "start_time": "2025-03-17T22:10:58.063569Z"
    }
   },
   "cell_type": "code",
   "source": "updatedSchema.show()",
   "id": "8c9638d1050d874f",
   "outputs": [
    {
     "name": "stdout",
     "output_type": "stream",
     "text": [
      "+-------------------+-------------+---------+------------+-------------------+\n",
      "|          timestamp|         unix|     Date|current_date|  current_timestamp|\n",
      "+-------------------+-------------+---------+------------+-------------------+\n",
      "|2015-03-22 14:13:34|1646641525847|May, 2021|  2025-03-17|2025-03-17 23:10:58|\n",
      "|2015-03-22 15:03:18|1646641557555|Mar, 2021|  2025-03-17|2025-03-17 23:10:58|\n",
      "|2015-03-22 14:38:39|1646641578622|Jan, 2021|  2025-03-17|2025-03-17 23:10:58|\n",
      "+-------------------+-------------+---------+------------+-------------------+\n",
      "\n"
     ]
    }
   ],
   "execution_count": 37
  }
 ],
 "metadata": {
  "kernelspec": {
   "display_name": "Python 3",
   "language": "python",
   "name": "python3"
  },
  "language_info": {
   "codemirror_mode": {
    "name": "ipython",
    "version": 2
   },
   "file_extension": ".py",
   "mimetype": "text/x-python",
   "name": "python",
   "nbconvert_exporter": "python",
   "pygments_lexer": "ipython2",
   "version": "2.7.6"
  }
 },
 "nbformat": 4,
 "nbformat_minor": 5
}
